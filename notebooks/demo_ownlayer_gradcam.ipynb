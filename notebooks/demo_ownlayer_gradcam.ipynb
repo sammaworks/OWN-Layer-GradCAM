{
 "cells": [
  {
   "cell_type": "markdown",
   "metadata": {},
   "source": [
    "# OWN-Layer Grad-CAM Demo\n",
    "\n",
    "This notebook demonstrates how to use the Grad-CAM implementation to visualize the important regions in an image that contribute to the model's predictions."
   ]
  },
  {
   "cell_type": "code",
   "execution_count": null,
   "metadata": {
    "collapsed": false
   },
   "outputs": [],
   "source": [
    "# Import necessary libraries\n",
    "import numpy as np\n",
    "import matplotlib.pyplot as plt\n",
    "from src.gradcam.gradcam import OWNLayerGradCAM\n",
    "from src.utils.model_utils import load_model\n",
    "from src.gradcam.image_utils import preprocess_image, load_image\n",
    "\n",
    "# Load the pre-trained model\n",
    "model = load_model('path/to/your/model.h5')\n",
    "\n",
    "# Load and preprocess the image\n",
    "image_path = 'data/sample_images/sample_image.jpg'\n",
    "image = load_image(image_path)\n",
    "preprocessed_image = preprocess_image(image)\n",
    "\n",
    "# Create Grad-CAM object\n",
    "gradcam = OWNLayerGradCAM(model)\n",
    "\n",
    "# Generate heatmap\n",
    "heatmap = gradcam.generate_heatmap(preprocessed_image, class_index=0)\n",
    "\n",
    "# Overlay heatmap on the original image\n",
    "superimposed_image = gradcam.overlay_heatmap(image, heatmap)\n",
    "\n",
    "# Display the results\n",
    "plt.figure(figsize=(10, 10))\n",
    "plt.subplot(1, 2, 1)\n",
    "plt.imshow(image)\n",
    "plt.title('Original Image')\n",
    "plt.axis('off')\n",
    "\n",
    "plt.subplot(1, 2, 2)\n",
    "plt.imshow(superimposed_image)\n",
    "plt.title('Grad-CAM Result')\n",
    "plt.axis('off')\n",
    "\n",
    "plt.show()"
   ]
  }
 ],
 "metadata": {
  "kernelspec": {
   "display_name": "Python 3",
   "language": "python",
   "name": "python3"
  },
  "language_info": {
   "codemirror_mode": {
    "name": "ipython",
    "version": 3
   },
   "file_extension": ".py",
   "mimetype": "text/x-python",
   "name": "python",
   "nbconvert_exporter": "python",
   "pygments_lexer": "ipython3",
   "version": "3.8.5"
  }
 },
 "nbformat": 4,
 "nbformat_minor": 4
}
